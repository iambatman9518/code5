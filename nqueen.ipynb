{
  "nbformat": 4,
  "nbformat_minor": 0,
  "metadata": {
    "colab": {
      "provenance": []
    },
    "kernelspec": {
      "name": "python3",
      "display_name": "Python 3"
    },
    "language_info": {
      "name": "python"
    }
  },
  "cells": [
    {
      "cell_type": "code",
      "execution_count": 9,
      "metadata": {
        "colab": {
          "base_uri": "https://localhost:8080/"
        },
        "id": "oCMSdWrqt3ud",
        "outputId": "e8d76b43-6143-40d9-e62f-4e93ba1983ef"
      },
      "outputs": [
        {
          "output_type": "stream",
          "name": "stdout",
          "text": [
            "Enter the value of n: 4\n",
            "[0, 1, 0, 0]\n",
            "[0, 0, 0, 1]\n",
            "[1, 0, 0, 0]\n",
            "[0, 0, 1, 0]\n"
          ]
        }
      ],
      "source": [
        "n = int(input(\"Enter the value of n: \"))\n",
        "board = [[0 for i in range(n)] for i in range(n)]\n",
        "\n",
        "def check_column(board, row, column):\n",
        "    for i in range(row - 1, -1, -1):\n",
        "        if board[i][column] == 1:\n",
        "            return False\n",
        "    return True\n",
        "\n",
        "def check_diagonal(board, row, column):\n",
        "    for i, j in zip(range(row - 1, -1, -1), range(column - 1, -1, -1)):\n",
        "        if board[i][j] == 1:\n",
        "            return False\n",
        "\n",
        "    for i, j in zip(range(row - 1, -1, -1), range(column + 1, n)):\n",
        "        if board[i][j] == 1:\n",
        "            return False\n",
        "\n",
        "    return True\n",
        "\n",
        "def nqn(board, row):\n",
        "    if row == n:\n",
        "        return True\n",
        "\n",
        "    for i in range(n):\n",
        "        if check_column(board, row, i) and check_diagonal(board, row, i):\n",
        "            board[row][i] = 1\n",
        "            if nqn(board, row + 1):\n",
        "                return True\n",
        "            board[row][i] = 0\n",
        "\n",
        "    return False\n",
        "\n",
        "nqn(board, 0)\n",
        "\n",
        "for row in board:\n",
        "    print(row)\n"
      ]
    },
    {
      "cell_type": "code",
      "source": [],
      "metadata": {
        "id": "iCzIBHBixhBq"
      },
      "execution_count": null,
      "outputs": []
    }
  ]
}