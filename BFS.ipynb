{
  "nbformat": 4,
  "nbformat_minor": 0,
  "metadata": {
    "colab": {
      "provenance": []
    },
    "kernelspec": {
      "name": "python3",
      "display_name": "Python 3"
    },
    "language_info": {
      "name": "python"
    }
  },
  "cells": [
    {
      "cell_type": "code",
      "execution_count": 4,
      "metadata": {
        "colab": {
          "base_uri": "https://localhost:8080/"
        },
        "id": "ay5mIZEU6av6",
        "outputId": "ace93e89-2f56-4e63-abd6-32486d301eab"
      },
      "outputs": [
        {
          "output_type": "stream",
          "name": "stdout",
          "text": [
            "Enter source city: delhi\n",
            "Enter goal city: agra\n",
            "Path: Delhi -> Agra\n",
            "Cost: 210\n"
          ]
        }
      ],
      "source": [
        "GRAPH = {\n",
        "    'Delhi': {'Jaipur': 280, 'Agra': 210},\n",
        "    'Agra': {'Delhi': 210, 'Jaipur': 240},\n",
        "    'Jaipur': {'Delhi': 280, 'Agra': 240},\n",
        "    'Lucknow': {'Delhi': 400},\n",
        "    'Gwalior': {'Agra': 120}\n",
        "}\n",
        "\n",
        "def bestfirst(source, destination):\n",
        "    straight_line = {\n",
        "        'Delhi': 1400, 'Jaipur': 1200, 'Agra': 1300, 'Lucknow': 1100, 'Gwalior': 1200\n",
        "    }\n",
        "\n",
        "    from queue import PriorityQueue\n",
        "    pq = PriorityQueue()\n",
        "    pq.put((straight_line[source], 0, source, [source]))\n",
        "    visited = {source: straight_line[source]}\n",
        "\n",
        "    while not pq.empty():\n",
        "        heuristic, cost, city, path = pq.get()\n",
        "        if city == destination:\n",
        "            return heuristic, cost, path\n",
        "        for next_city, distance in GRAPH[city].items():\n",
        "            current_cost = cost + distance\n",
        "            heuristic = straight_line[next_city]\n",
        "            if next_city not in visited or visited[next_city] >= heuristic:\n",
        "                visited[next_city] = heuristic\n",
        "                pq.put((heuristic, current_cost, next_city, path + [next_city]))\n",
        "\n",
        "def main():\n",
        "    source = input(\"Enter source city: \").title()\n",
        "    destination = input(\"Enter goal city: \").title()\n",
        "\n",
        "    if source not in GRAPH or destination not in GRAPH:\n",
        "        print(\"ERROR: City not found.\")\n",
        "        return\n",
        "\n",
        "    heuristic, cost, path = bestfirst(source, destination)\n",
        "    print(f'Path: {\" -> \".join(path)}')\n",
        "    print(f'Cost: {cost}')\n",
        "\n",
        "if __name__ == '__main__':\n",
        "    main()\n"
      ]
    },
    {
      "cell_type": "code",
      "source": [],
      "metadata": {
        "id": "KLYa2tQ27-sc"
      },
      "execution_count": null,
      "outputs": []
    }
  ]
}