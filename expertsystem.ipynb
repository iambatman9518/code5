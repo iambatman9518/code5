{
  "nbformat": 4,
  "nbformat_minor": 0,
  "metadata": {
    "colab": {
      "provenance": []
    },
    "kernelspec": {
      "name": "python3",
      "display_name": "Python 3"
    },
    "language_info": {
      "name": "python"
    }
  },
  "cells": [
    {
      "cell_type": "code",
      "execution_count": 2,
      "metadata": {
        "colab": {
          "base_uri": "https://localhost:8080/"
        },
        "id": "nKNYAuyB9qUw",
        "outputId": "ae828770-533e-40ee-cb18-fc95576596cb"
      },
      "outputs": [
        {
          "output_type": "stream",
          "name": "stdout",
          "text": [
            "Please enter your symptoms (type 'done' when finished):\n",
            "Enter symptom: fever\n",
            "Enter symptom: runny nose\n",
            "Enter symptom: done\n",
            "\n",
            "Potential Diagnoses (with matching symptoms):\n",
            "\n",
            "Disease: Allergy\n",
            "Match: 25.00%\n",
            "Matching symptoms: runny nose\n",
            "\n",
            "Disease: Cold\n",
            "Match: 20.00%\n",
            "Matching symptoms: runny nose\n",
            "\n",
            "Disease: Flu\n",
            "Match: 16.67%\n",
            "Matching symptoms: fever\n",
            "\n",
            "Disease: Covid-19\n",
            "Match: 16.67%\n",
            "Matching symptoms: fever\n"
          ]
        }
      ],
      "source": [
        "symptoms = []\n",
        "diagnosis_rules = {\n",
        "    'cold': ['cough', 'sore throat', 'runny nose', 'congestion', 'sneezing'],\n",
        "    'flu': ['fever', 'chills', 'muscle aches', 'fatigue', 'sore throat', 'cough'],\n",
        "    'covid-19': ['fever', 'cough', 'shortness of breath', 'fatigue', 'loss of taste', 'loss of smell'],\n",
        "    'allergy': ['sneezing', 'itchy eyes', 'runny nose', 'congestion'],\n",
        "    'migraine': ['headache', 'nausea', 'sensitivity to light', 'blurred vision'],\n",
        "    'diabetes': ['frequent urination', 'excessive thirst', 'extreme fatigue', 'blurry vision', 'weight loss']\n",
        "}\n",
        "\n",
        "def get_symptoms():\n",
        "    global symptoms\n",
        "    print(\"Please enter your symptoms (type 'done' when finished):\")\n",
        "    while True:\n",
        "        symptom = input(\"Enter symptom: \").strip().lower()\n",
        "        if symptom == 'done':\n",
        "            break\n",
        "        symptoms.append(symptom)\n",
        "\n",
        "def diagnose():\n",
        "    global symptoms\n",
        "    potential_diagnosis = []\n",
        "    for disease, disease_symptoms in diagnosis_rules.items():\n",
        "        matching_symptoms = set(symptoms).intersection(set(disease_symptoms))\n",
        "        match_percentage = (len(matching_symptoms) / len(disease_symptoms)) * 100\n",
        "\n",
        "        if match_percentage > 0:\n",
        "            potential_diagnosis.append((disease, match_percentage, matching_symptoms))\n",
        "\n",
        "    if potential_diagnosis:\n",
        "        potential_diagnosis.sort(key=lambda x: x[1], reverse=True)\n",
        "        print(\"\\nPotential Diagnoses (with matching symptoms):\")\n",
        "        for diagnosis, percentage, symptoms in potential_diagnosis:\n",
        "            print(f\"\\nDisease: {diagnosis.capitalize()}\")\n",
        "            print(f\"Match: {percentage:.2f}%\")\n",
        "            print(f\"Matching symptoms: {', '.join(symptoms)}\")\n",
        "    else:\n",
        "        print(\"No potential diagnosis found. Please consult a doctor.\")\n",
        "\n",
        "def main():\n",
        "    get_symptoms()\n",
        "    diagnose()\n",
        "\n",
        "if __name__ == \"__main__\":\n",
        "    main()"
      ]
    },
    {
      "cell_type": "code",
      "source": [],
      "metadata": {
        "id": "_5MF9lxl-6CG"
      },
      "execution_count": null,
      "outputs": []
    }
  ]
}