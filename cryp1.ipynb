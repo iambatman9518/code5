{
 "cells": [
  {
   "cell_type": "code",
   "execution_count": 2,
   "id": "67f50e9b-9cbd-4240-a3b9-1a76cf6fe674",
   "metadata": {},
   "outputs": [
    {
     "name": "stdout",
     "output_type": "stream",
     "text": [
      "21 + 81 == 102\n"
     ]
    }
   ],
   "source": [
    "import re\n",
    " \n",
    "def solve(q):\n",
    "    try:\n",
    "        n = next(i for i in q if i.isalpha())  # Check if q has alphabetic characters\n",
    "    except StopIteration:\n",
    "        # Use eval to evaluate the parsed string\n",
    "        # Use sub to replace strings with regular expressions\n",
    "        # In the regular expression, ab+ will match 'a' followed by any non-zero number of 'b's\n",
    "        # [abv] is a set of characters, which will match 'a', 'b', or 'v'\n",
    "        # ^[0-9] means \"any digit, at the start of the string\"; [^0-9] means \"anything except a digit\"\n",
    "        return q if eval(re.sub(r'(^|[^0-9])0+([1-9]+)', r'\\1\\2', q)) else False\n",
    "    else:\n",
    "        for i in (str(i) for i in range(10) if str(i) not in q):\n",
    "            r = solve(q.replace(n, str(i)))  # Replace character with number\n",
    "            if r:\n",
    "                return r\n",
    "        return False\n",
    " \n",
    "# Driver code\n",
    "if __name__ == \"__main__\":\n",
    "    query = \"TO + GO == OUT\"\n",
    "    r = solve(query)\n",
    "    print(r) if r else print(\"No solution found.\")\n"
   ]
  },
  {
   "cell_type": "code",
   "execution_count": null,
   "id": "fc5cf93d-9960-4c11-be64-b61dfb720a5a",
   "metadata": {},
   "outputs": [],
   "source": []
  }
 ],
 "metadata": {
  "kernelspec": {
   "display_name": "Python 3 (ipykernel)",
   "language": "python",
   "name": "python3"
  },
  "language_info": {
   "codemirror_mode": {
    "name": "ipython",
    "version": 3
   },
   "file_extension": ".py",
   "mimetype": "text/x-python",
   "name": "python",
   "nbconvert_exporter": "python",
   "pygments_lexer": "ipython3",
   "version": "3.11.3"
  }
 },
 "nbformat": 4,
 "nbformat_minor": 5
}
