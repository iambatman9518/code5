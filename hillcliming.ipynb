{
  "nbformat": 4,
  "nbformat_minor": 0,
  "metadata": {
    "colab": {
      "provenance": []
    },
    "kernelspec": {
      "name": "python3",
      "display_name": "Python 3"
    },
    "language_info": {
      "name": "python"
    }
  },
  "cells": [
    {
      "cell_type": "code",
      "execution_count": 2,
      "metadata": {
        "colab": {
          "base_uri": "https://localhost:8080/"
        },
        "id": "xMn-tFJR2w0i",
        "outputId": "5b3cec9f-697a-4835-c6ee-94036daa832c"
      },
      "outputs": [
        {
          "output_type": "stream",
          "name": "stdout",
          "text": [
            "Enter value of N in N-Queens Problem: 5\n",
            "['-', '-', 'Q', '-', '-']\n",
            "['Q', '-', '-', '-', '-']\n",
            "['-', '-', '-', 'Q', '-']\n",
            "['-', 'Q', '-', '-', '-']\n",
            "['-', '-', '-', '-', 'Q']\n",
            "\n",
            "Solution found: \n",
            "['-', '-', 'Q', '-', '-']\n",
            "['Q', '-', '-', '-', '-']\n",
            "['-', '-', '-', 'Q', '-']\n",
            "['-', 'Q', '-', '-', '-']\n",
            "['-', '-', '-', '-', 'Q']\n"
          ]
        }
      ],
      "source": [
        "import random\n",
        "\n",
        "N = int(input(\"Enter value of N in N-Queens Problem: \"))\n",
        "\n",
        "def is_safe(board, row, col):\n",
        "\n",
        "    for r in range(row):\n",
        "        if board[r][col] == 'Q':\n",
        "            return False\n",
        "\n",
        "    for r, c in zip(range(row-1, -1, -1), range(col-1, -1, -1)):\n",
        "        if board[r][c] == 'Q':\n",
        "            return False\n",
        "\n",
        "    for r, c in zip(range(row-1, -1, -1), range(col+1, N)):\n",
        "        if board[r][c] == 'Q':\n",
        "            return False\n",
        "    return True\n",
        "\n",
        "def heuristic(board):\n",
        "    count = 0\n",
        "    for row in board:\n",
        "        count += row.count('Q')\n",
        "    return N - count\n",
        "\n",
        "\n",
        "board = [['-' for _ in range(N)] for _ in range(N)]\n",
        "\n",
        "\n",
        "while heuristic(board) != 0:\n",
        "\n",
        "    board = [['-' for _ in range(N)] for _ in range(N)]\n",
        "\n",
        "    for row in range(N):\n",
        "        placed = False\n",
        "        possible_positions = []\n",
        "\n",
        "\n",
        "        for col in range(N):\n",
        "            if is_safe(board, row, col):\n",
        "                possible_positions.append(col)\n",
        "\n",
        "        if possible_positions:\n",
        "            col = random.choice(possible_positions)\n",
        "            board[row][col] = 'Q'\n",
        "\n",
        "\n",
        "    for row in board:\n",
        "        print(row)\n",
        "\n",
        "\n",
        "print(\"\\nSolution found: \")\n",
        "for row in board:\n",
        "    print(row)\n"
      ]
    },
    {
      "cell_type": "code",
      "source": [],
      "metadata": {
        "id": "7FoE4RgR3BUN"
      },
      "execution_count": null,
      "outputs": []
    }
  ]
}